{
 "cells": [
  {
   "cell_type": "code",
   "execution_count": 1,
   "metadata": {},
   "outputs": [],
   "source": [
    "import numpy as np\n",
    "import pandas as pd\n",
    "import matplotlib.pyplot as plt\n",
    "from scipy import stats"
   ]
  },
  {
   "cell_type": "markdown",
   "metadata": {},
   "source": [
    "## Zadanie - estymatory\n",
    "Sprawdź symulacyjnie nieobciążoność estymatorów wariancji dla\n",
    "\\begin{equation*}\n",
    "    \\hat{\\sigma}^2 = S^2 = \\frac{1}{n-1}\\sum_{i=1}^n(X_i-\\overline{X})^2,\n",
    "\\end{equation*}\n",
    "oraz\n",
    "\\begin{equation*}\n",
    "    \\hat{\\sigma}^2 = S_n^2 = \\frac{1}{n}\\sum_{i=1}^n(X_i-\\overline{X})^2.\n",
    "\\end{equation*}\n",
    "\n",
    "1. Wygeneruj próbkę $n$-elementową z wybranego rozkładu.\n",
    "2. Policz dla wygenerowanej próbki $S^2$ oraz $S_n^2$.\n",
    "3. Powtórz kroki 1-2 $N$ razy, np. $N=1000$.\n",
    "4. Policz średnią z wygenerowanych $N$ razy wartości wariancji dla obu estymatorów.\n",
    "4. Powtórz kroki 1-4 dla róznych liczności $n$, np. dla $n\\in[5, 100]$.\n",
    "5. Narysuj wykres zależności wyestymowanej wartości wariancji dla obu estymatorów w zależności od liczności próbki.\n",
    "6. Powtórz kroki 1-6 dla innej rodziny rozkładów."
   ]
  },
  {
   "cell_type": "code",
   "execution_count": null,
   "metadata": {},
   "outputs": [],
   "source": []
  },
  {
   "cell_type": "code",
   "execution_count": null,
   "metadata": {},
   "outputs": [],
   "source": []
  },
  {
   "cell_type": "code",
   "execution_count": null,
   "metadata": {},
   "outputs": [],
   "source": []
  },
  {
   "cell_type": "code",
   "execution_count": null,
   "metadata": {},
   "outputs": [],
   "source": []
  },
  {
   "cell_type": "code",
   "execution_count": null,
   "metadata": {},
   "outputs": [],
   "source": []
  },
  {
   "cell_type": "code",
   "execution_count": null,
   "metadata": {},
   "outputs": [],
   "source": []
  },
  {
   "cell_type": "markdown",
   "metadata": {},
   "source": [
    "# Estymacja punktowa "
   ]
  },
  {
   "cell_type": "markdown",
   "metadata": {},
   "source": [
    "### Zadania\n",
    "1. Niech $X_1, \\ldots, X_n$ będzie próbą losową z rozkładu gamma $\\Gamma(\\alpha, \\beta)$, gdzie $\\alpha, \\beta>0$. Stosując metodę momentów wyznaczyć estymatory parametrów $\\alpha$ i $\\beta$.\n",
    "\n",
    "**Wskazówka**: Pokaż, że $S_n^2 = \\frac{1}{n}\\sum_{i=1}^n X_i^2 - \\overline{X}^2 = M_2 - M_1^2$.\n",
    "\n",
    "2. Niech $X_1, \\ldots, X_n$ będzie próbą losową z rozkładu wykładniczego $\\text{Exp}(\\lambda)$, gdzie $\\lambda>0$. Stosując metodę największej wiarogodności wyznaczyć estymator parametru $\\lambda$.\n",
    "\n",
    "\n",
    "3. W celu oszacowania niezawodności pewnego urządzenia dokonano 10 pomiarów czasu bezawaryjnej pracy tego urządzenia i otrzymano następujące wyniki (w godzinach): 1119,  627,  790,  626, 1477, 1470, 1466, 1027, 1480,  904. Zakładamy, że czas bezawaryjnej pracy tego urządzenia ma rozkład wykładniczy.\n",
    "    a) Znaleźć estymator funkcji niezawodności tego urządzenia.\n",
    "    b) Jakie jest prawdopodobieństwo, że dane urządzenie nie ulegnie awarii w ciągu 900 godzin pracy?\n",
    "    \n",
    "**Wskazówka**: Funkcja niezawodności: $S(x)=1-F(x)=P(X>x)$."
   ]
  },
  {
   "cell_type": "code",
   "execution_count": null,
   "metadata": {},
   "outputs": [],
   "source": []
  },
  {
   "cell_type": "code",
   "execution_count": null,
   "metadata": {},
   "outputs": [],
   "source": []
  },
  {
   "cell_type": "code",
   "execution_count": null,
   "metadata": {},
   "outputs": [],
   "source": []
  },
  {
   "cell_type": "code",
   "execution_count": null,
   "metadata": {},
   "outputs": [],
   "source": []
  }
 ],
 "metadata": {
  "kernelspec": {
   "display_name": "Python 3",
   "language": "python",
   "name": "python3"
  },
  "language_info": {
   "codemirror_mode": {
    "name": "ipython",
    "version": 3
   },
   "file_extension": ".py",
   "mimetype": "text/x-python",
   "name": "python",
   "nbconvert_exporter": "python",
   "pygments_lexer": "ipython3",
   "version": "3.8.8"
  }
 },
 "nbformat": 4,
 "nbformat_minor": 2
}
