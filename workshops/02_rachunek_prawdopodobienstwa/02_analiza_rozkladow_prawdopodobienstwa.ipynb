{
 "cells": [
  {
   "cell_type": "markdown",
   "metadata": {},
   "source": [
    "# Analiza rozkładów prawdopobieństwa"
   ]
  },
  {
   "cell_type": "code",
   "execution_count": 2,
   "metadata": {},
   "outputs": [],
   "source": [
    "import numpy as np\n",
    "import matplotlib.pyplot as plt\n",
    "\n",
    "from scipy import stats"
   ]
  },
  {
   "cell_type": "markdown",
   "metadata": {},
   "source": [
    "## Zadanie - rozkład dyskretny\n",
    "Zmienna losowa $X$ ma funkcje prawdopodobieństwa nastepującej postaci:\n",
    "\n",
    "| $x_i$ | -3  | -1  | 3   | 5   |\n",
    "|-------|-----|-----|-----|-----|\n",
    "| $p_i$ | 0.1 | 0.2 | 0.5 | 0.2 |\n",
    "\n",
    "\n",
    "a) Narysuj wykres rozkładu prawdopodobieństwa.\n",
    "\n",
    "*b) Narysuj dystrybuante $F$ tego rozkładu.\n",
    "\n",
    "c) Oblicz prawdopodobieństwa $P(X > 1)$ i $P( \\frac{1}{4} < X < 5)$.\n",
    "\n",
    "d) Oblicz wartość oczekiwaną, wariancję i odchylenie standardowe zmiennej X."
   ]
  },
  {
   "cell_type": "code",
   "execution_count": null,
   "metadata": {},
   "outputs": [],
   "source": []
  },
  {
   "cell_type": "code",
   "execution_count": null,
   "metadata": {},
   "outputs": [],
   "source": []
  },
  {
   "cell_type": "code",
   "execution_count": null,
   "metadata": {},
   "outputs": [],
   "source": []
  },
  {
   "cell_type": "code",
   "execution_count": null,
   "metadata": {},
   "outputs": [],
   "source": []
  },
  {
   "cell_type": "code",
   "execution_count": null,
   "metadata": {},
   "outputs": [],
   "source": []
  },
  {
   "cell_type": "markdown",
   "metadata": {},
   "source": [
    "## ***Zadanie - rozkład ciągły\n",
    "Zmienna losowa X ma rozkład ciągły o gęstości:\n",
    "\n",
    "$$\n",
    "    f(x)=\\left.\n",
    "    \\begin{cases}\n",
    "    x \\quad &\\text{dla}\\quad 0<x\\leq 1\\\\\n",
    "    2-x \\quad &\\text{dla}\\quad 1<x\\leq 2\\\\\n",
    "    0 \\quad &\\text{dla}\\quad x>2, x\\le 0.\n",
    "    \\end{cases}\\right.\n",
    "$$\n",
    "\n",
    "\n",
    "a) Narysuj wykres gęstości.\n",
    "\n",
    "b) Wyznacz narysuj dystrybuante $F$ tego rozkładu.\n",
    "\n",
    "c) Oblicz prawdopodobieństwa $P(X > 1)$ i $P( \\frac{1}{4} < X \\leq 1)$.\n",
    "\n",
    "d) Oblicz wartość oczekiwaną, wariancję i odchylenie standardowe zmiennej X."
   ]
  },
  {
   "cell_type": "code",
   "execution_count": null,
   "metadata": {},
   "outputs": [],
   "source": []
  },
  {
   "cell_type": "code",
   "execution_count": null,
   "metadata": {},
   "outputs": [],
   "source": []
  },
  {
   "cell_type": "code",
   "execution_count": null,
   "metadata": {},
   "outputs": [],
   "source": []
  },
  {
   "cell_type": "code",
   "execution_count": null,
   "metadata": {},
   "outputs": [],
   "source": []
  }
 ],
 "metadata": {
  "kernelspec": {
   "display_name": "Python 3",
   "language": "python",
   "name": "python3"
  },
  "language_info": {
   "codemirror_mode": {
    "name": "ipython",
    "version": 3
   },
   "file_extension": ".py",
   "mimetype": "text/x-python",
   "name": "python",
   "nbconvert_exporter": "python",
   "pygments_lexer": "ipython3",
   "version": "3.8.8"
  }
 },
 "nbformat": 4,
 "nbformat_minor": 2
}
