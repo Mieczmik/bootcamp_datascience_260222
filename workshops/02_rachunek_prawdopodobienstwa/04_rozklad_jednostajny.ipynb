{
 "cells": [
  {
   "cell_type": "markdown",
   "metadata": {},
   "source": [
    "### Rozkład jednostajny - $U(a, b)$\n",
    "Zmienna losowa $X$ ma **rozkład jednostajny** na przedziale $[a,b]$, jeżeli gęstość $f$ jest postaci\n",
    "$$\n",
    "    f(x)=\\left.\n",
    "    \\begin{cases}\n",
    "    \\frac{1}{b-a} \\quad &\\text{dla}\\quad x\\in[a,b]\\\\\n",
    "    0 \\quad &\\text{dla}\\quad x\\not\\in [a,b]\n",
    "    \\end{cases}\\right.\n",
    "$$\n",
    "\n",
    "Wartość oczekiwana i wariancja dane są wzorami\n",
    "$$\n",
    "    \\mathbb{E}X = \\frac{a+b}{2}, \\quad \\text{Var}(X) = \\frac{(b-a)^2}{12}.\n",
    "$$"
   ]
  },
  {
   "cell_type": "code",
   "execution_count": 2,
   "metadata": {},
   "outputs": [],
   "source": [
    "import numpy as np\n",
    "import matplotlib.pyplot as plt\n",
    "\n",
    "from scipy import stats"
   ]
  },
  {
   "cell_type": "markdown",
   "metadata": {},
   "source": [
    "### Zadanie\n",
    "1. Zdefiniuj zmienną losową dla rozkładu jednostajnego.\n",
    "2. Narysuj gęstość.\n",
    "3. Narysuj dystrybuantę.\n",
    "4. Wyznacz podstawowe charakterystyki rozkładu: średnia, wariancja, odchylenie standardowe.\n",
    "5. Wylosuj $n$ obserwacji z zdefiniowanego rozkładu.\n",
    "6. Narysujmy histogram dla wylosowanej powyżej próbki.\n",
    "7. Porównaj gęstości/dystrybuanty kilku różnych rozkładów jednostajnych."
   ]
  },
  {
   "cell_type": "code",
   "execution_count": null,
   "metadata": {},
   "outputs": [],
   "source": []
  },
  {
   "cell_type": "code",
   "execution_count": null,
   "metadata": {},
   "outputs": [],
   "source": []
  },
  {
   "cell_type": "code",
   "execution_count": null,
   "metadata": {},
   "outputs": [],
   "source": []
  },
  {
   "cell_type": "code",
   "execution_count": null,
   "metadata": {},
   "outputs": [],
   "source": []
  },
  {
   "cell_type": "code",
   "execution_count": null,
   "metadata": {},
   "outputs": [],
   "source": []
  },
  {
   "cell_type": "code",
   "execution_count": null,
   "metadata": {},
   "outputs": [],
   "source": []
  },
  {
   "cell_type": "markdown",
   "metadata": {},
   "source": [
    "### Zadanie\n",
    "\n",
    "Zakładając, że zmienna losowa X ma rozkład jednostajny na odcinku $[-5, 5]$, oblicz prawdopodobieństwo:\n",
    "\n",
    "a) $P(-3 < X \\leq 3)$;\n",
    "\n",
    "b) $P( X > 0)$;\n",
    "\n",
    "c) $P( X < -10)$."
   ]
  },
  {
   "cell_type": "code",
   "execution_count": null,
   "metadata": {},
   "outputs": [],
   "source": []
  },
  {
   "cell_type": "code",
   "execution_count": null,
   "metadata": {},
   "outputs": [],
   "source": []
  },
  {
   "cell_type": "code",
   "execution_count": null,
   "metadata": {},
   "outputs": [],
   "source": []
  },
  {
   "cell_type": "code",
   "execution_count": null,
   "metadata": {},
   "outputs": [],
   "source": []
  }
 ],
 "metadata": {
  "kernelspec": {
   "display_name": "Python 3",
   "language": "python",
   "name": "python3"
  },
  "language_info": {
   "codemirror_mode": {
    "name": "ipython",
    "version": 3
   },
   "file_extension": ".py",
   "mimetype": "text/x-python",
   "name": "python",
   "nbconvert_exporter": "python",
   "pygments_lexer": "ipython3",
   "version": "3.8.8"
  }
 },
 "nbformat": 4,
 "nbformat_minor": 2
}
